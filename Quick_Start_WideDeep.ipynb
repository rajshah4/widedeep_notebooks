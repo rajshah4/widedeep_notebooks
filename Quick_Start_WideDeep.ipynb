{
 "cells": [
  {
   "cell_type": "markdown",
   "source": [
    "# Getting Started with Pytorch WideDeep\n",
    "\n",
    "`pytorch-widedeep` is a flexible and modular way to build deep learning models. You can start with multimodal data (wide) while using deep learning to find complex relationships in your data (deep).  An example use case is predicting the value of a house based on images of the house, tabular data (e.g., number of rooms, floor area), and a text data (e.g, a detailed description).  With `pytorch-widedeep` you can bring all those disparate types of data into one deep learning model!\n",
    "\n",
    "### Is this package right for you?\n",
    "\n",
    "This notebook focuses on a deep learning approach to tabular data.  If you are just getting started, you are probably better off using an approach like gradient boosted machines, which typically perform better on tabular data.  Check out [Javier's post](https://jrzaurin.github.io/infinitoml/2021/05/28/pytorch-widedeep_iv.html) for a comparison of GBM versus deep learning.  However, for people with larger datasets, more complex features, multiclass, multitarget, or multitask, using a deep learning approach has benefits, check out how [Pinterest](https://medium.com/pinterest-engineering/how-we-use-automl-multi-task-learning-and-multi-tower-models-for-pinterest-ads-db966c3dc99e) or [Lyft](https://twimlai.com/causal-models-in-practice-at-lyft-with-sean-taylor/) have moved to deep learning models.\n",
    "\n",
    "The notebook focuses on `pytorch-widedeep` which I like, but the pytorch ecoysystem has lots of other great packages I would recommend including [fast.ai](https://docs.fast.ai/), [pytorch-tabular](https://pytorch-tabular.readthedocs.io/en/latest/), and [pytorch-forecasting](https://pytorch-forecasting.readthedocs.io/en/latest/).    \n",
    "\n",
    "### How to use this notebook\n",
    "\n",
    "The notebook is structured to walk you through a typical workflow of preprocessing your data, defining a model, training a model, and then getting predictions. We start with a simple MLP with TabMLP and then move to more complex approaches like the TabResnet, and TabTransformer. Links to additional documentation and academic papers are also included.\n",
    "\n",
    "The notebook is intended to be an interactive way to explore the pytorch models. Take time to look at each object that is created and understand what is happening at every step. This notebook is not intended as boilerplate code for building a production mode. Finally, this notebook is just the start. There are plenty of other [example notebooks](https://github.com/jrzaurin/pytorch-widedeep/tree/master/examples) that cover more advanced uses like [combining images and text](https://github.com/jrzaurin/pytorch-widedeep/blob/master/examples/05_Regression_with_Images_and_Text.ipynb). "
   ],
   "metadata": {}
  },
  {
   "cell_type": "markdown",
   "source": [
    "### Install and Data Prep"
   ],
   "metadata": {}
  },
  {
   "cell_type": "markdown",
   "source": [
    "[Click here to open in Google Colab](https://colab.research.google.com/github/rajshah4/widedeep_notebooks/blob/main/Quick_Start_WideDeep.ipynb).  \n",
    "\n",
    "Installing pytorch-widedeep is a an important first step. After, that we will import in the necessary libraries for this notebook."
   ],
   "metadata": {}
  },
  {
   "cell_type": "code",
   "execution_count": 1,
   "source": [
    "##Packages to install when using Google Colab\n",
    "#!pip install pytorch-widedeep\n",
    "#!pip install captum\n",
    "#You should then restart the runtime"
   ],
   "outputs": [],
   "metadata": {}
  },
  {
   "cell_type": "code",
   "execution_count": 2,
   "source": [
    "import numpy as np\n",
    "import pandas as pd\n",
    "import torch\n",
    "\n",
    "from pytorch_widedeep.preprocessing import WidePreprocessor, TabPreprocessor\n",
    "from pytorch_widedeep.training import Trainer\n",
    "from pytorch_widedeep.models import Wide, TabMlp, TabResnet, TabTransformer, WideDeep, TabFastFormer, TabPerceiver\n",
    "from pytorch_widedeep.metrics import Accuracy, Precision\n",
    "\n",
    "from captum.attr._core.feature_permutation import FeaturePermutation\n",
    "\n",
    "import matplotlib.pyplot as plt"
   ],
   "outputs": [
    {
     "output_type": "stream",
     "name": "stderr",
     "text": [
      "/Users/rajiv.shah/anaconda3/envs/pytorch/lib/python3.7/importlib/_bootstrap.py:219: RuntimeWarning: numpy.ufunc size changed, may indicate binary incompatibility. Expected 192 from C header, got 216 from PyObject\n",
      "  return f(*args, **kwds)\n"
     ]
    }
   ],
   "metadata": {}
  },
  {
   "cell_type": "markdown",
   "source": [
    "The dataset for this notebooks is the [UCI Adult Census](https://archive.ics.uci.edu/ml/datasets/adult) dataset. This dataset was chosen because it has a mix of numerical and categorical features.  Let's prepare our data by putting all of the features and our target into one pandas dataframe."
   ],
   "metadata": {}
  },
  {
   "cell_type": "code",
   "execution_count": 3,
   "source": [
    "!wget https://archive.ics.uci.edu/ml/machine-learning-databases/adult/adult.data\n",
    "names = ['age', 'workclass', 'fnlwgt', 'education', 'education_num', \n",
    "                 'marital_status', 'occupation', 'relationship', 'race', 'sex', \n",
    "                 'capital_gain', 'capital_loss', 'hours_per_week', \n",
    "                 'native_country', 'income']\n",
    "\n",
    "df = pd.read_csv('adult.data', header=None, names=names, na_values=['?', ' ?'])\n",
    "#create a binary target\n",
    "df['income_label'] = (df[\"income\"].apply(lambda x: \">50K\" in x)).astype(int)\n",
    "df.drop('income', axis=1, inplace=True)\n",
    "df.head()"
   ],
   "outputs": [
    {
     "output_type": "stream",
     "name": "stdout",
     "text": [
      "--2021-09-28 17:27:10--  https://archive.ics.uci.edu/ml/machine-learning-databases/adult/adult.data\n",
      "Resolving archive.ics.uci.edu (archive.ics.uci.edu)... 128.195.10.252\n",
      "Connecting to archive.ics.uci.edu (archive.ics.uci.edu)|128.195.10.252|:443... connected.\n",
      "HTTP request sent, awaiting response... 200 OK\n",
      "Length: 3974305 (3.8M) [application/x-httpd-php]\n",
      "Saving to: ‘adult.data.18’\n",
      "\n",
      "adult.data.18       100%[===================>]   3.79M  5.28MB/s    in 0.7s    \n",
      "\n",
      "2021-09-28 17:27:11 (5.28 MB/s) - ‘adult.data.18’ saved [3974305/3974305]\n",
      "\n"
     ]
    },
    {
     "output_type": "execute_result",
     "data": {
      "text/html": [
       "<div>\n",
       "<style scoped>\n",
       "    .dataframe tbody tr th:only-of-type {\n",
       "        vertical-align: middle;\n",
       "    }\n",
       "\n",
       "    .dataframe tbody tr th {\n",
       "        vertical-align: top;\n",
       "    }\n",
       "\n",
       "    .dataframe thead th {\n",
       "        text-align: right;\n",
       "    }\n",
       "</style>\n",
       "<table border=\"1\" class=\"dataframe\">\n",
       "  <thead>\n",
       "    <tr style=\"text-align: right;\">\n",
       "      <th></th>\n",
       "      <th>age</th>\n",
       "      <th>workclass</th>\n",
       "      <th>fnlwgt</th>\n",
       "      <th>education</th>\n",
       "      <th>education_num</th>\n",
       "      <th>marital_status</th>\n",
       "      <th>occupation</th>\n",
       "      <th>relationship</th>\n",
       "      <th>race</th>\n",
       "      <th>sex</th>\n",
       "      <th>capital_gain</th>\n",
       "      <th>capital_loss</th>\n",
       "      <th>hours_per_week</th>\n",
       "      <th>native_country</th>\n",
       "      <th>income_label</th>\n",
       "    </tr>\n",
       "  </thead>\n",
       "  <tbody>\n",
       "    <tr>\n",
       "      <th>0</th>\n",
       "      <td>39</td>\n",
       "      <td>State-gov</td>\n",
       "      <td>77516</td>\n",
       "      <td>Bachelors</td>\n",
       "      <td>13</td>\n",
       "      <td>Never-married</td>\n",
       "      <td>Adm-clerical</td>\n",
       "      <td>Not-in-family</td>\n",
       "      <td>White</td>\n",
       "      <td>Male</td>\n",
       "      <td>2174</td>\n",
       "      <td>0</td>\n",
       "      <td>40</td>\n",
       "      <td>United-States</td>\n",
       "      <td>0</td>\n",
       "    </tr>\n",
       "    <tr>\n",
       "      <th>1</th>\n",
       "      <td>50</td>\n",
       "      <td>Self-emp-not-inc</td>\n",
       "      <td>83311</td>\n",
       "      <td>Bachelors</td>\n",
       "      <td>13</td>\n",
       "      <td>Married-civ-spouse</td>\n",
       "      <td>Exec-managerial</td>\n",
       "      <td>Husband</td>\n",
       "      <td>White</td>\n",
       "      <td>Male</td>\n",
       "      <td>0</td>\n",
       "      <td>0</td>\n",
       "      <td>13</td>\n",
       "      <td>United-States</td>\n",
       "      <td>0</td>\n",
       "    </tr>\n",
       "    <tr>\n",
       "      <th>2</th>\n",
       "      <td>38</td>\n",
       "      <td>Private</td>\n",
       "      <td>215646</td>\n",
       "      <td>HS-grad</td>\n",
       "      <td>9</td>\n",
       "      <td>Divorced</td>\n",
       "      <td>Handlers-cleaners</td>\n",
       "      <td>Not-in-family</td>\n",
       "      <td>White</td>\n",
       "      <td>Male</td>\n",
       "      <td>0</td>\n",
       "      <td>0</td>\n",
       "      <td>40</td>\n",
       "      <td>United-States</td>\n",
       "      <td>0</td>\n",
       "    </tr>\n",
       "    <tr>\n",
       "      <th>3</th>\n",
       "      <td>53</td>\n",
       "      <td>Private</td>\n",
       "      <td>234721</td>\n",
       "      <td>11th</td>\n",
       "      <td>7</td>\n",
       "      <td>Married-civ-spouse</td>\n",
       "      <td>Handlers-cleaners</td>\n",
       "      <td>Husband</td>\n",
       "      <td>Black</td>\n",
       "      <td>Male</td>\n",
       "      <td>0</td>\n",
       "      <td>0</td>\n",
       "      <td>40</td>\n",
       "      <td>United-States</td>\n",
       "      <td>0</td>\n",
       "    </tr>\n",
       "    <tr>\n",
       "      <th>4</th>\n",
       "      <td>28</td>\n",
       "      <td>Private</td>\n",
       "      <td>338409</td>\n",
       "      <td>Bachelors</td>\n",
       "      <td>13</td>\n",
       "      <td>Married-civ-spouse</td>\n",
       "      <td>Prof-specialty</td>\n",
       "      <td>Wife</td>\n",
       "      <td>Black</td>\n",
       "      <td>Female</td>\n",
       "      <td>0</td>\n",
       "      <td>0</td>\n",
       "      <td>40</td>\n",
       "      <td>Cuba</td>\n",
       "      <td>0</td>\n",
       "    </tr>\n",
       "  </tbody>\n",
       "</table>\n",
       "</div>"
      ],
      "text/plain": [
       "   age          workclass  fnlwgt   education  education_num  \\\n",
       "0   39          State-gov   77516   Bachelors             13   \n",
       "1   50   Self-emp-not-inc   83311   Bachelors             13   \n",
       "2   38            Private  215646     HS-grad              9   \n",
       "3   53            Private  234721        11th              7   \n",
       "4   28            Private  338409   Bachelors             13   \n",
       "\n",
       "        marital_status          occupation    relationship    race      sex  \\\n",
       "0        Never-married        Adm-clerical   Not-in-family   White     Male   \n",
       "1   Married-civ-spouse     Exec-managerial         Husband   White     Male   \n",
       "2             Divorced   Handlers-cleaners   Not-in-family   White     Male   \n",
       "3   Married-civ-spouse   Handlers-cleaners         Husband   Black     Male   \n",
       "4   Married-civ-spouse      Prof-specialty            Wife   Black   Female   \n",
       "\n",
       "   capital_gain  capital_loss  hours_per_week  native_country  income_label  \n",
       "0          2174             0              40   United-States             0  \n",
       "1             0             0              13   United-States             0  \n",
       "2             0             0              40   United-States             0  \n",
       "3             0             0              40   United-States             0  \n",
       "4             0             0              40            Cuba             0  "
      ]
     },
     "metadata": {},
     "execution_count": 3
    }
   ],
   "metadata": {}
  },
  {
   "cell_type": "markdown",
   "source": [
    "### Preprocessing the data\n",
    "\n",
    "For data with high cardinality categoricals, text, image data  . .. or anything that is wide, we applying some preprocessing.  The simplest approach `Wide` is shown below for categoricals.  Here we implement a liner layer as an Embedding layer plus a bias.  When working with text use `DeepText` or with images use `DeepImage`.  There is also `DeepTabular` when you want to build XYZ on tabular datasets.  The examples section includes more detailed notebooks on [preprocessing](https://github.com/jrzaurin/pytorch-widedeep/blob/master/examples/01_Preprocessors_and_utils.ipynb).\n",
    "\n",
    "Here we define the categoricval features that should be treated as wide.  We also perform additional feature engineering by indicating that `education` and `occupation` are crossed columns.  This will manually create interaction features between the two features.  The WidePreprocessor label encodes all the categorical features."
   ],
   "metadata": {}
  },
  {
   "cell_type": "code",
   "execution_count": 4,
   "source": [
    "wide_cols = ['education', 'relationship','workclass','occupation','native_country','sex']\n",
    "crossed_cols = [('education', 'occupation'), ('native_country', 'occupation')]"
   ],
   "outputs": [],
   "metadata": {}
  },
  {
   "cell_type": "code",
   "execution_count": 5,
   "source": [
    "wide_preprocessor = WidePreprocessor(wide_cols=wide_cols, crossed_cols=crossed_cols)\n",
    "X_wide = wide_preprocessor.fit_transform(df)"
   ],
   "outputs": [],
   "metadata": {}
  },
  {
   "cell_type": "markdown",
   "source": [
    "For `DeepTabular`, we define columns with categorical features that should create embeddings with `cat_embed_cols` and features that are continious numerical with `continuous_cols`.  The resulting dataset gets label-encoded for the categorical columns and normalizes the numerical ones."
   ],
   "metadata": {}
  },
  {
   "cell_type": "code",
   "execution_count": 6,
   "source": [
    "cat_embed_cols = [('education',16), ('relationship',8), ('workclass',16), ('occupation',16),('native_country',16)]\n",
    "continuous_cols = [\"age\",\"hours_per_week\"]\n"
   ],
   "outputs": [],
   "metadata": {}
  },
  {
   "cell_type": "code",
   "execution_count": 7,
   "source": [
    "tab_preprocessor = TabPreprocessor(embed_cols=cat_embed_cols, continuous_cols=continuous_cols)\n",
    "X_tab = tab_preprocessor.fit_transform(df)"
   ],
   "outputs": [],
   "metadata": {}
  },
  {
   "cell_type": "code",
   "execution_count": 8,
   "source": [
    "# TARGET\n",
    "target_col = 'income_label'\n",
    "target = df[target_col].values"
   ],
   "outputs": [],
   "metadata": {}
  },
  {
   "cell_type": "markdown",
   "source": [
    "### Modeling Setup\n",
    "\n",
    "Modeling requires bringing together the preprocessed components and applying one of the deep tabular models.  There is considerable flexibility in the library for how you are doing this.  There is everything from the very simple `TabMlp` to the well-known `TabNet` to more cutting edge approaches like `Perceiver`, and `FastFormer`.  To see more examples, check out the notebook that focuses on [deeptabular models](https://github.com/jrzaurin/pytorch-widedeep/blob/master/examples/02_2_deeptabular_models.ipynb) or the [transformer models](https://github.com/jrzaurin/pytorch-widedeep/blob/master/examples/10_The_Transformer_Family.ipynb).\n",
    "\n",
    "For this notebook, we start by taking our wide preprocessed dataset and putting it through a very simple MLP that represents the categorical features and concatenates the continuous features.  You can view the model object to see the structure of the model. "
   ],
   "metadata": {}
  },
  {
   "cell_type": "code",
   "execution_count": 9,
   "source": [
    "wide = Wide(wide_dim=np.unique(X_wide).shape[0], pred_dim=1)\n",
    "deeptabular = TabMlp(mlp_hidden_dims=[64,32], \n",
    "                      column_idx=tab_preprocessor.column_idx,\n",
    "                      embed_input=tab_preprocessor.embeddings_input,\n",
    "                      continuous_cols=continuous_cols)\n",
    "model = WideDeep(wide=wide, deeptabular=deeptabular)"
   ],
   "outputs": [],
   "metadata": {}
  },
  {
   "cell_type": "markdown",
   "source": [
    "### Training\n",
    "Once the model is built, we just need to compile it and run it.  The Trainer is where you would look for the typical options for training a model."
   ],
   "metadata": {}
  },
  {
   "cell_type": "code",
   "execution_count": 10,
   "source": [
    "mlp_model = Trainer(model, objective='binary', metrics=[Accuracy, Precision])"
   ],
   "outputs": [],
   "metadata": {}
  },
  {
   "cell_type": "code",
   "execution_count": 11,
   "source": [
    "mlp_model.fit(X_wide=X_wide, X_tab=X_tab, target=target, n_epochs=5, batch_size=64, val_split=0.2)"
   ],
   "outputs": [
    {
     "output_type": "stream",
     "name": "stderr",
     "text": [
      "/Users/rajiv.shah/anaconda3/envs/pytorch/lib/python3.7/site-packages/sklearn/utils/__init__.py:1102: DeprecationWarning: `np.int` is a deprecated alias for the builtin `int`. To silence this warning, use `int` by itself. Doing this will not modify any behavior and is safe. When replacing `np.int`, you may wish to use e.g. `np.int64` or `np.int32` to specify the precision. If you wish to review your current use, check the release note link for additional information.\n",
      "Deprecated in NumPy 1.20; for more details and guidance: https://numpy.org/devdocs/release/1.20.0-notes.html#deprecations\n",
      "  return floored.astype(np.int)\n",
      "epoch 1: 100%|██████████| 407/407 [00:03<00:00, 126.41it/s, loss=0.447, metrics={'acc': 0.7926, 'prec': 0.5889}]\n",
      "valid: 100%|██████████| 102/102 [00:00<00:00, 112.72it/s, loss=0.37, metrics={'acc': 0.8165, 'prec': 0.6522}]\n",
      "epoch 2: 100%|██████████| 407/407 [00:02<00:00, 140.56it/s, loss=0.386, metrics={'acc': 0.8184, 'prec': 0.6538}]\n",
      "valid: 100%|██████████| 102/102 [00:00<00:00, 212.98it/s, loss=0.36, metrics={'acc': 0.8237, 'prec': 0.6598}]\n",
      "epoch 3: 100%|██████████| 407/407 [00:03<00:00, 127.79it/s, loss=0.375, metrics={'acc': 0.8247, 'prec': 0.6689}]\n",
      "valid: 100%|██████████| 102/102 [00:00<00:00, 209.80it/s, loss=0.357, metrics={'acc': 0.8253, 'prec': 0.6789}]\n",
      "epoch 4: 100%|██████████| 407/407 [00:02<00:00, 140.71it/s, loss=0.367, metrics={'acc': 0.8269, 'prec': 0.6751}]\n",
      "valid: 100%|██████████| 102/102 [00:00<00:00, 215.99it/s, loss=0.353, metrics={'acc': 0.8311, 'prec': 0.6701}]\n",
      "epoch 5: 100%|██████████| 407/407 [00:02<00:00, 149.23it/s, loss=0.358, metrics={'acc': 0.8325, 'prec': 0.6882}]\n",
      "valid: 100%|██████████| 102/102 [00:00<00:00, 170.07it/s, loss=0.35, metrics={'acc': 0.8319, 'prec': 0.687}]\n"
     ]
    }
   ],
   "metadata": {}
  },
  {
   "cell_type": "markdown",
   "source": [
    "Let's try more models.  As you can see, you can run a wide and deep model in just a few lines of code. The simple MLP approach provided a logloss of 0.349.  \n",
    "  \n",
    "Let's now walk through some more advanced approaches starting with the `FT-Transformer` as the `deeptabular` component. This model uses a simple transformer approach for tabular data explained at [https://arxiv.org/abs/2106.11959](https://arxiv.org/abs/2106.11959). It does require slightly different preprocessing and combines a deep approach with a deep tabular approach."
   ],
   "metadata": {}
  },
  {
   "cell_type": "code",
   "execution_count": 12,
   "source": [
    "\n",
    "cat_embed_cols_for_transformer = [el[0] for el in cat_embed_cols]\n",
    "tab_preprocessor = TabPreprocessor(embed_cols=cat_embed_cols_for_transformer, \n",
    "                                   continuous_cols=continuous_cols, \n",
    "                                   for_transformer=True, \n",
    "                                   with_cls_token = True)\n",
    "X_tab = tab_preprocessor.fit_transform(df)"
   ],
   "outputs": [],
   "metadata": {}
  },
  {
   "cell_type": "code",
   "execution_count": 13,
   "source": [
    "wide = Wide(wide_dim=np.unique(X_wide).shape[0], pred_dim=1)\n",
    "deeptabular = TabTransformer(column_idx=tab_preprocessor.column_idx,\n",
    "                             embed_input=tab_preprocessor.embeddings_input,\n",
    "                             continuous_cols=continuous_cols, \n",
    "                             embed_continuous = True, \n",
    "                             embed_continuous_activation = \"relu\")\n",
    "model = WideDeep(wide=wide, deeptabular=deeptabular)\n",
    "tabt_model = Trainer(model, objective='binary', metrics=[Accuracy, Precision])\n",
    "tabt_model.fit(X_wide=X_wide, X_tab=X_tab, target=target, n_epochs=5, batch_size=512, val_split=0.2)"
   ],
   "outputs": [
    {
     "output_type": "stream",
     "name": "stderr",
     "text": [
      "/Users/rajiv.shah/anaconda3/envs/pytorch/lib/python3.7/site-packages/sklearn/utils/__init__.py:1102: DeprecationWarning: `np.int` is a deprecated alias for the builtin `int`. To silence this warning, use `int` by itself. Doing this will not modify any behavior and is safe. When replacing `np.int`, you may wish to use e.g. `np.int64` or `np.int32` to specify the precision. If you wish to review your current use, check the release note link for additional information.\n",
      "Deprecated in NumPy 1.20; for more details and guidance: https://numpy.org/devdocs/release/1.20.0-notes.html#deprecations\n",
      "  return floored.astype(np.int)\n",
      "epoch 1: 100%|██████████| 51/51 [00:05<00:00,  9.29it/s, loss=0.558, metrics={'acc': 0.7252, 'prec': 0.4082}]\n",
      "valid: 100%|██████████| 13/13 [00:00<00:00, 29.57it/s, loss=0.435, metrics={'acc': 0.7918, 'prec': 0.6035}]\n",
      "epoch 2: 100%|██████████| 51/51 [00:05<00:00,  8.85it/s, loss=0.415, metrics={'acc': 0.8058, 'prec': 0.6265}]\n",
      "valid: 100%|██████████| 13/13 [00:00<00:00, 25.54it/s, loss=0.38, metrics={'acc': 0.8268, 'prec': 0.703}]\n",
      "epoch 3: 100%|██████████| 51/51 [00:06<00:00,  8.33it/s, loss=0.388, metrics={'acc': 0.8206, 'prec': 0.6537}]\n",
      "valid: 100%|██████████| 13/13 [00:00<00:00, 29.39it/s, loss=0.376, metrics={'acc': 0.822, 'prec': 0.6582}]\n",
      "epoch 4: 100%|██████████| 51/51 [00:05<00:00,  8.95it/s, loss=0.382, metrics={'acc': 0.8213, 'prec': 0.6556}]\n",
      "valid: 100%|██████████| 13/13 [00:00<00:00, 29.12it/s, loss=0.382, metrics={'acc': 0.8283, 'prec': 0.7446}]\n",
      "epoch 5: 100%|██████████| 51/51 [00:05<00:00,  8.98it/s, loss=0.378, metrics={'acc': 0.8258, 'prec': 0.6634}]\n",
      "valid: 100%|██████████| 13/13 [00:00<00:00, 29.14it/s, loss=0.362, metrics={'acc': 0.8353, 'prec': 0.6882}]\n"
     ]
    }
   ],
   "metadata": {}
  },
  {
   "cell_type": "markdown",
   "source": [
    "Let's now try a few of the cutting edge models, such as `Perceiver` and `TabFastFormer`.  [DeepMind's Perceiver](https://arxiv.org/pdf/2103.03206.pdf) is built for handling multimodel data.  `TabFastFormer` is an adaptation of [Fastformer: Additive Attention Can Be All You Need](https://arxiv.org/pdf/2108.09084.pdf). As you will see, Fastformer gives the lowest loss."
   ],
   "metadata": {}
  },
  {
   "cell_type": "code",
   "execution_count": 14,
   "source": [
    "tabperceiver = TabPerceiver(\n",
    "    column_idx=tab_preprocessor.column_idx,\n",
    "    embed_input=tab_preprocessor.embeddings_input,\n",
    "    continuous_cols=tab_preprocessor.continuous_cols, \n",
    "    n_perceiver_blocks=1, \n",
    "    n_latent_blocks=3, \n",
    "    n_latent_heads=2, \n",
    "    n_latents=6,\n",
    "    latent_dim=32,\n",
    ")\n",
    "model = WideDeep(deeptabular=tabperceiver)\n",
    "perc_model = Trainer(model, objective='binary', metrics=[Accuracy])\n",
    "perc_model.fit(X_tab=X_tab, target=target, n_epochs=5, batch_size=256, val_split=0.2)"
   ],
   "outputs": [
    {
     "output_type": "stream",
     "name": "stderr",
     "text": [
      "/Users/rajiv.shah/anaconda3/envs/pytorch/lib/python3.7/site-packages/sklearn/utils/__init__.py:1102: DeprecationWarning: `np.int` is a deprecated alias for the builtin `int`. To silence this warning, use `int` by itself. Doing this will not modify any behavior and is safe. When replacing `np.int`, you may wish to use e.g. `np.int64` or `np.int32` to specify the precision. If you wish to review your current use, check the release note link for additional information.\n",
      "Deprecated in NumPy 1.20; for more details and guidance: https://numpy.org/devdocs/release/1.20.0-notes.html#deprecations\n",
      "  return floored.astype(np.int)\n",
      "epoch 1: 100%|██████████| 102/102 [00:05<00:00, 18.78it/s, loss=0.447, metrics={'acc': 0.792}]\n",
      "valid: 100%|██████████| 26/26 [00:00<00:00, 50.60it/s, loss=0.365, metrics={'acc': 0.8282}]\n",
      "epoch 2: 100%|██████████| 102/102 [00:05<00:00, 18.31it/s, loss=0.369, metrics={'acc': 0.8281}]\n",
      "valid: 100%|██████████| 26/26 [00:00<00:00, 46.34it/s, loss=0.356, metrics={'acc': 0.8323}]\n",
      "epoch 3: 100%|██████████| 102/102 [00:06<00:00, 17.00it/s, loss=0.359, metrics={'acc': 0.8327}]\n",
      "valid: 100%|██████████| 26/26 [00:00<00:00, 48.79it/s, loss=0.356, metrics={'acc': 0.8314}]\n",
      "epoch 4: 100%|██████████| 102/102 [00:06<00:00, 16.29it/s, loss=0.359, metrics={'acc': 0.835}]\n",
      "valid: 100%|██████████| 26/26 [00:00<00:00, 44.69it/s, loss=0.352, metrics={'acc': 0.8357}]\n",
      "epoch 5: 100%|██████████| 102/102 [00:06<00:00, 16.34it/s, loss=0.355, metrics={'acc': 0.8371}]\n",
      "valid: 100%|██████████| 26/26 [00:00<00:00, 42.92it/s, loss=0.347, metrics={'acc': 0.8382}]\n"
     ]
    }
   ],
   "metadata": {}
  },
  {
   "cell_type": "code",
   "execution_count": 15,
   "source": [
    "tabfastformer = TabFastFormer(column_idx=tab_preprocessor.column_idx,\n",
    "              embed_input=tab_preprocessor.embeddings_input,\n",
    "              continuous_cols=tab_preprocessor.continuous_cols, \n",
    "              n_blocks=2, n_heads=4,             \n",
    "            )\n",
    "model = WideDeep(deeptabular=tabfastformer)\n",
    "fasttab_model = Trainer(model, objective='binary', metrics=[Accuracy])\n",
    "fasttab_model.fit(X_tab=X_tab, target=target, n_epochs=5, batch_size=256, val_split=0.2)"
   ],
   "outputs": [
    {
     "output_type": "stream",
     "name": "stderr",
     "text": [
      "/Users/rajiv.shah/anaconda3/envs/pytorch/lib/python3.7/site-packages/sklearn/utils/__init__.py:1102: DeprecationWarning: `np.int` is a deprecated alias for the builtin `int`. To silence this warning, use `int` by itself. Doing this will not modify any behavior and is safe. When replacing `np.int`, you may wish to use e.g. `np.int64` or `np.int32` to specify the precision. If you wish to review your current use, check the release note link for additional information.\n",
      "Deprecated in NumPy 1.20; for more details and guidance: https://numpy.org/devdocs/release/1.20.0-notes.html#deprecations\n",
      "  return floored.astype(np.int)\n",
      "epoch 1: 100%|██████████| 102/102 [00:03<00:00, 27.53it/s, loss=0.462, metrics={'acc': 0.7812}]\n",
      "valid: 100%|██████████| 26/26 [00:00<00:00, 54.17it/s, loss=0.376, metrics={'acc': 0.8079}]\n",
      "epoch 2: 100%|██████████| 102/102 [00:03<00:00, 26.53it/s, loss=0.375, metrics={'acc': 0.8228}]\n",
      "valid: 100%|██████████| 26/26 [00:00<00:00, 63.96it/s, loss=0.352, metrics={'acc': 0.836}]\n",
      "epoch 3: 100%|██████████| 102/102 [00:03<00:00, 27.64it/s, loss=0.363, metrics={'acc': 0.8323}]\n",
      "valid: 100%|██████████| 26/26 [00:00<00:00, 59.87it/s, loss=0.353, metrics={'acc': 0.8348}]\n",
      "epoch 4: 100%|██████████| 102/102 [00:03<00:00, 28.09it/s, loss=0.36, metrics={'acc': 0.8325}]\n",
      "valid: 100%|██████████| 26/26 [00:00<00:00, 66.68it/s, loss=0.376, metrics={'acc': 0.827}]\n",
      "epoch 5: 100%|██████████| 102/102 [00:03<00:00, 26.70it/s, loss=0.354, metrics={'acc': 0.8348}]\n",
      "valid: 100%|██████████| 26/26 [00:00<00:00, 64.24it/s, loss=0.344, metrics={'acc': 0.8369}]\n"
     ]
    }
   ],
   "metadata": {}
  },
  {
   "cell_type": "markdown",
   "source": [
    "### Explainability\n",
    "\n",
    "Explainability is very important for understanding how your model is working and getting others to trust your model.  All of these models will work with traditional model agnostic explainablity techniques like permutation based feature importance, partial dependence, and Shap explanations.  Additionally it's possible to extract our the attention weights to better understand what the model is focused on.  You can find this in the companion notebook location XYZ"
   ],
   "metadata": {}
  },
  {
   "cell_type": "code",
   "execution_count": 21,
   "source": [
    "\n",
    "feature_perm = FeaturePermutation(model.deeptabular.eval())\n",
    "attr_fic = feature_perm.attribute(torch.from_numpy(X_tab),target=0)  ##Run here against training data\n",
    "attr_fic_sum = torch.div(torch.sum((np.absolute(attr_fic)),0),len(attr_fic))\n",
    "attr_fic_sum"
   ],
   "outputs": [
    {
     "output_type": "execute_result",
     "data": {
      "text/plain": [
       "tensor([0.0000, 0.6454, 1.4507, 0.1671, 0.7164, 0.0971, 0.7971, 0.6541])"
      ]
     },
     "metadata": {},
     "execution_count": 21
    }
   ],
   "metadata": {}
  },
  {
   "cell_type": "code",
   "execution_count": 33,
   "source": [
    "# Helper method to print importances and visualize feature importance\n",
    "\n",
    "def visualize_importances(feature_names, importances, title=\"Feature Importance for Permutation Importance\", plot=True, axis_title=\"Features\"):\n",
    "    print(title)\n",
    "    print (feature_names)\n",
    "    for i in range(len(feature_names)):\n",
    "        print(feature_names[i], \": \", '%.3f'%(importances[i]))\n",
    "    x_pos = (np.arange(len(feature_names)))\n",
    "    if plot:\n",
    "        plt.figure(figsize=(12,6))\n",
    "        plt.barh(x_pos, importances, align='center')\n",
    "        plt.yticks(x_pos, feature_names, wrap=True)\n",
    "        plt.ylabel(axis_title)\n",
    "        plt.title(title)\n",
    "fnl = list(tab_preprocessor.column_idx.keys())\n",
    "visualize_importances(fnl, attr_fic_sum.numpy())"
   ],
   "outputs": [
    {
     "output_type": "stream",
     "name": "stdout",
     "text": [
      "Feature Importance for Permutation Importance\n",
      "['cls_token', 'education', 'relationship', 'workclass', 'occupation', 'native_country', 'age', 'hours_per_week']\n",
      "cls_token :  0.000\n",
      "education :  0.645\n",
      "relationship :  1.451\n",
      "workclass :  0.167\n",
      "occupation :  0.716\n",
      "native_country :  0.097\n",
      "age :  0.797\n",
      "hours_per_week :  0.654\n"
     ]
    },
    {
     "output_type": "display_data",
     "data": {
      "image/png": "[encoded data removed]",
      "text/plain": [
       "<Figure size 864x432 with 1 Axes>"
      ]
     },
     "metadata": {
      "needs_background": "light"
     }
    }
   ],
   "metadata": {}
  },
  {
   "cell_type": "markdown",
   "source": [
    "### Predictions and Saving your model"
   ],
   "metadata": {}
  },
  {
   "cell_type": "markdown",
   "source": [
    "Once you have trained the model, you can always run predictions against it for your new data.  Here is a simple command for getting probabilities back from a classification model."
   ],
   "metadata": {}
  },
  {
   "cell_type": "code",
   "execution_count": 36,
   "source": [
    "results = fasttab_model.predict_proba(X_tab=X_tab)\n",
    "results"
   ],
   "outputs": [
    {
     "output_type": "stream",
     "name": "stderr",
     "text": [
      "predict: 100%|██████████| 128/128 [00:01<00:00, 90.72it/s] \n"
     ]
    },
    {
     "output_type": "execute_result",
     "data": {
      "text/plain": [
       "array([[9.68174100e-01, 3.18259038e-02],\n",
       "       [4.96614397e-01, 5.03385603e-01],\n",
       "       [9.90554571e-01, 9.44540463e-03],\n",
       "       ...,\n",
       "       [9.88520682e-01, 1.14793219e-02],\n",
       "       [9.99272227e-01, 7.27771898e-04],\n",
       "       [2.80827999e-01, 7.19172001e-01]])"
      ]
     },
     "metadata": {},
     "execution_count": 36
    }
   ],
   "metadata": {}
  },
  {
   "cell_type": "markdown",
   "source": [
    "Here are some commands for saving preprocessing steps, the model, and training history.  There are example notebooks that cover [saving and loading a model](https://github.com/jrzaurin/pytorch-widedeep/blob/master/examples/08_save_and_load_model_and_artifacts.ipynb)."
   ],
   "metadata": {}
  },
  {
   "cell_type": "code",
   "execution_count": 37,
   "source": [
    "import pickle\n",
    "\n",
    "#save preprocessing\n",
    "with open('tab_preproc.pkl', 'wb') as dp:\n",
    "    pickle.dump(tab_preprocessor, dp)\n",
    "\n",
    "#save the model and training history\n",
    "fasttab_model.save(path =\"\",model_filename=\"model_saved.pt\")"
   ],
   "outputs": [],
   "metadata": {}
  }
 ],
 "metadata": {
  "kernelspec": {
   "name": "python3",
   "display_name": "Python 3.7.0 64-bit ('pytorch': conda)"
  },
  "language_info": {
   "codemirror_mode": {
    "name": "ipython",
    "version": 3
   },
   "file_extension": ".py",
   "mimetype": "text/x-python",
   "name": "python",
   "nbconvert_exporter": "python",
   "pygments_lexer": "ipython3",
   "version": "3.7.0"
  },
  "interpreter": {
   "hash": "a03b9aa3c84f755c4ab71ec9dc21fa9ce0f88d663de0825ed331c1e1e0b364ef"
  }
 },
 "nbformat": 4,
 "nbformat_minor": 2
}